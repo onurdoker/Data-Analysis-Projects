{
 "cells": [
  {
   "cell_type": "code",
   "id": "initial_id",
   "metadata": {
    "collapsed": true,
    "ExecuteTime": {
     "end_time": "2025-04-27T11:54:18.647279Z",
     "start_time": "2025-04-27T11:54:18.315675Z"
    }
   },
   "source": [
    "#1. import libraries\n",
    "import pandas as pd"
   ],
   "outputs": [],
   "execution_count": 1
  },
  {
   "metadata": {
    "ExecuteTime": {
     "end_time": "2025-04-27T11:54:19.322570Z",
     "start_time": "2025-04-27T11:54:19.309718Z"
    }
   },
   "cell_type": "code",
   "source": [
    "# 2. Load datasets\n",
    "games_paid_users = pd.read_csv('games_paid_users.csv')\n",
    "games_payments = pd.read_csv('games_payments.csv')"
   ],
   "id": "ea7ff3a0172b6963",
   "outputs": [],
   "execution_count": 2
  },
  {
   "metadata": {
    "ExecuteTime": {
     "end_time": "2025-04-27T11:54:20.699057Z",
     "start_time": "2025-04-27T11:54:20.694042Z"
    }
   },
   "cell_type": "code",
   "source": [
    "# 3. Convert payment_date to datetime\n",
    "games_payments['payment_date'] = pd.to_datetime(games_payments['payment_date'])"
   ],
   "id": "16a39a53e4dcd4b4",
   "outputs": [],
   "execution_count": 3
  },
  {
   "metadata": {
    "ExecuteTime": {
     "end_time": "2025-04-27T11:55:41.515632Z",
     "start_time": "2025-04-27T11:55:41.511099Z"
    }
   },
   "cell_type": "code",
   "source": [
    "# 4. Add payment_month\n",
    "games_payments['payment_month'] = games_payments['payment_date'].values.astype('datetime64[M]')"
   ],
   "id": "fd06850ff145287a",
   "outputs": [],
   "execution_count": 4
  },
  {
   "metadata": {
    "ExecuteTime": {
     "end_time": "2025-04-27T12:20:28.980510Z",
     "start_time": "2025-04-27T12:20:28.973241Z"
    }
   },
   "cell_type": "code",
   "source": [
    "# 5. Aggregate payments per user/game/month\n",
    "monthly_revenue = games_payments.groupby(['user_id', 'game_name', 'payment_month'], as_index=False)[\n",
    "    'revenue_amount_usd'].sum()\n",
    "monthly_revenue.rename(columns={'revenue_amount_usd': 'total_revenue'}, inplace=True)"
   ],
   "id": "5ceb334c1ed23bc",
   "outputs": [],
   "execution_count": 5
  },
  {
   "metadata": {
    "ExecuteTime": {
     "end_time": "2025-04-27T12:32:03.243067Z",
     "start_time": "2025-04-27T12:32:03.236364Z"
    }
   },
   "cell_type": "code",
   "source": [
    "# 6. Create full monthly calendar per user/game\n",
    "min_month = monthly_revenue['payment_month'].min()\n",
    "max_month = monthly_revenue['payment_month'].max()\n",
    "all_months = pd.date_range(min_month, max_month, freq='MS')\n",
    "\n",
    "unique_users_games = monthly_revenue[['user_id', 'game_name']].drop_duplicates()\n",
    "calendar = unique_users_games.assign(key=1).merge(pd.DataFrame({'payment_month': all_months, 'key': 1}), on='key').drop(\n",
    "    'key', axis=1)"
   ],
   "id": "4d10bfd0570148a3",
   "outputs": [],
   "execution_count": 6
  },
  {
   "metadata": {
    "ExecuteTime": {
     "end_time": "2025-04-27T12:38:21.767234Z",
     "start_time": "2025-04-27T12:38:21.761317Z"
    }
   },
   "cell_type": "code",
   "source": [
    "# 7. Merge to fill in missing months with zero revenue\n",
    "full_data = calendar.merge(monthly_revenue, on=['user_id', 'game_name', 'payment_month'], how='left')\n",
    "full_data['total_revenue'] = full_data['total_revenue'].fillna(0)"
   ],
   "id": "12ae6ecf9312db5a",
   "outputs": [],
   "execution_count": 7
  },
  {
   "metadata": {
    "ExecuteTime": {
     "end_time": "2025-04-27T12:41:17.625778Z",
     "start_time": "2025-04-27T12:41:17.620755Z"
    }
   },
   "cell_type": "code",
   "source": [
    "# 8. Sort for further processing\n",
    "full_data = full_data.sort_values(by=['user_id', 'game_name', 'payment_month'])"
   ],
   "id": "805b5fcce3c502fd",
   "outputs": [],
   "execution_count": 8
  },
  {
   "metadata": {
    "ExecuteTime": {
     "end_time": "2025-04-27T12:46:44.448563Z",
     "start_time": "2025-04-27T12:46:44.444513Z"
    }
   },
   "cell_type": "code",
   "source": [
    "# 9. total_revenue_previous\n",
    "full_data['total_revenue_previous'] = full_data.groupby(['user_id', 'game_name'])['total_revenue'].shift(1).fillna(0)"
   ],
   "id": "3e3ee1692dae03b4",
   "outputs": [],
   "execution_count": 9
  },
  {
   "metadata": {
    "ExecuteTime": {
     "end_time": "2025-04-27T12:46:54.398189Z",
     "start_time": "2025-04-27T12:46:54.208611Z"
    }
   },
   "cell_type": "code",
   "source": [
    "# 10. total_revenue_previous\n",
    "def determine_status(row):\n",
    "    if row['total_revenue'] > 0:\n",
    "        if row['total_revenue_previous'] == 0:\n",
    "            # Check first payment\n",
    "            user_game_payments = full_data[\n",
    "                (full_data['user_id'] == row['user_id']) &\n",
    "                (full_data['game_name'] == row['game_name']) &\n",
    "                (full_data['payment_month'] < row['payment_month'])\n",
    "                ]\n",
    "            if user_game_payments['total_revenue'].sum() == 0:\n",
    "                return 'new'\n",
    "            return 'back'\n",
    "        return 'active'\n",
    "    else:\n",
    "        if row['total_revenue_previous'] > 0:\n",
    "            return 'churn'\n",
    "        return 'deactive'\n",
    "\n",
    "\n",
    "full_data['status'] = full_data.apply(determine_status, axis=1)"
   ],
   "id": "6030f2ca09c9241c",
   "outputs": [],
   "execution_count": 10
  },
  {
   "metadata": {
    "ExecuteTime": {
     "end_time": "2025-04-27T12:59:07.459522Z",
     "start_time": "2025-04-27T12:59:07.451214Z"
    }
   },
   "cell_type": "code",
   "source": [
    "# 11. Merge with user attributes\n",
    "full_data[['user_id', 'game_name']] = full_data[['user_id', 'game_name']].astype(str)\n",
    "games_paid_users[['user_id', 'game_name']] = games_paid_users[['user_id', 'game_name']].astype(str)\n",
    "\n",
    "missing_cols = games_paid_users.columns.difference(full_data.columns)\n",
    "full_data = full_data.merge(games_paid_users[missing_cols.tolist() + ['user_id', 'game_name']],\n",
    "                            on=['user_id', 'game_name'], how='left')"
   ],
   "id": "4d551bc743aeaeb0",
   "outputs": [],
   "execution_count": 11
  },
  {
   "metadata": {
    "ExecuteTime": {
     "end_time": "2025-04-27T13:02:09.656238Z",
     "start_time": "2025-04-27T13:02:09.641587Z"
    }
   },
   "cell_type": "code",
   "source": [
    "# 12. Save to CSV\n",
    "full_data.to_csv('final_games_dataset.csv', index=False)"
   ],
   "id": "b95aa1e5b9f0b823",
   "outputs": [],
   "execution_count": 13
  }
 ],
 "metadata": {
  "kernelspec": {
   "display_name": "Python 3",
   "language": "python",
   "name": "python3"
  },
  "language_info": {
   "codemirror_mode": {
    "name": "ipython",
    "version": 2
   },
   "file_extension": ".py",
   "mimetype": "text/x-python",
   "name": "python",
   "nbconvert_exporter": "python",
   "pygments_lexer": "ipython2",
   "version": "2.7.6"
  }
 },
 "nbformat": 4,
 "nbformat_minor": 5
}
